{
 "cells": [
  {
   "cell_type": "code",
   "execution_count": 12,
   "metadata": {},
   "outputs": [],
   "source": [
    "import tensorflow\n",
    "import matplotlib.pyplot as plt"
   ]
  },
  {
   "cell_type": "code",
   "execution_count": 13,
   "metadata": {},
   "outputs": [
    {
     "name": "stdout",
     "output_type": "stream",
     "text": [
      "Found 1151 images belonging to 4 classes.\n",
      "Found 92 images belonging to 4 classes.\n"
     ]
    }
   ],
   "source": [
    "model = tensorflow.keras.models.load_model('D:/projects/proje/modeller/Model5.h5')\n",
    "\n",
    "model.compile(loss='binary_crossentropy',\n",
    "              optimizer=tensorflow.keras.optimizers.RMSprop(lr=1e-5),\n",
    "              metrics=['acc'])\n",
    "\n",
    "egitim_yolu = 'D:/projects/proje/dataSet/Train'\n",
    "dogrulama_yolu = 'D:/projects/proje/dataSet/Validation'\n",
    "test_yolu = 'D:/projects/proje/dataSet/Test'\n",
    "\n",
    "train_datagen = tensorflow.keras.preprocessing.image.ImageDataGenerator(\n",
    "      rescale=1./255, # piksel değerleri 0-255'den 0-1 arasına getiriliyor.\n",
    "      rotation_range=40, # istenilen artırma işlemleri yapılabilir.\n",
    "      width_shift_range=0.2,\n",
    "      height_shift_range=0.2,\n",
    "      shear_range=0.2,\n",
    "      zoom_range=0.2,\n",
    "      horizontal_flip = False, #burası önemli, aynalama denebilir.\n",
    "      fill_mode='nearest'\n",
    "      )\n",
    "\n",
    "train_generator = train_datagen.flow_from_directory(\n",
    "        egitim_yolu,\n",
    "        target_size=(224, 224),\n",
    "        batch_size=16,\n",
    "        )\n",
    "\n",
    "# To validate the training process, we do not need augmented images.\n",
    "validation_datagen = tensorflow.keras.preprocessing.image.ImageDataGenerator(\n",
    "        rescale=1./255\n",
    "        )\n",
    "\n",
    "validation_generator = validation_datagen.flow_from_directory(\n",
    "        dogrulama_yolu,\n",
    "        target_size=(224, 224),\n",
    "        batch_size=16,\n",
    "        )"
   ]
  },
  {
   "cell_type": "code",
   "execution_count": 14,
   "metadata": {},
   "outputs": [],
   "source": [
    "class MyThresholdCallback(tensorflow.keras.callbacks.Callback):\n",
    "    def __init__(self, acc_limit,val_limit):\n",
    "        super(MyThresholdCallback, self).__init__()\n",
    "        self.acc_limit = acc_limit\n",
    "        self.val_limit = val_limit\n",
    "    def on_epoch_end(self, epoch, logs=None): \n",
    "        acc = logs[\"acc\"]\n",
    "        val_acc = logs[\"val_acc\"]\n",
    "        if val_acc >= self.val_limit :\n",
    "            if acc >= self.acc_limit :\n",
    "                self.model.stop_training = True\n",
    "\n",
    "callbacks = MyThresholdCallback(acc_limit=0.99, val_limit=0.99)"
   ]
  },
  {
   "cell_type": "code",
   "execution_count": 15,
   "metadata": {},
   "outputs": [
    {
     "name": "stdout",
     "output_type": "stream",
     "text": [
      "Epoch 1/100\n",
      "15/15 [==============================] - 57s 4s/step - loss: 0.0575 - acc: 0.9665 - val_loss: 0.2614 - val_acc: 0.7500\n",
      "Epoch 2/100\n",
      "15/15 [==============================] - 60s 4s/step - loss: 0.0586 - acc: 0.9792 - val_loss: 0.3474 - val_acc: 0.7500\n",
      "Epoch 3/100\n",
      "15/15 [==============================] - 61s 4s/step - loss: 0.0646 - acc: 0.9542 - val_loss: 0.2169 - val_acc: 0.8125\n",
      "Epoch 4/100\n",
      "15/15 [==============================] - 60s 4s/step - loss: 0.0718 - acc: 0.9625 - val_loss: 0.2411 - val_acc: 0.7500\n",
      "Epoch 5/100\n",
      "15/15 [==============================] - 60s 4s/step - loss: 0.0638 - acc: 0.9582 - val_loss: 0.2918 - val_acc: 0.7500\n",
      "Epoch 6/100\n",
      "15/15 [==============================] - 60s 4s/step - loss: 0.0785 - acc: 0.9625 - val_loss: 0.3282 - val_acc: 0.8125\n",
      "Epoch 7/100\n",
      "15/15 [==============================] - 59s 4s/step - loss: 0.0660 - acc: 0.9708 - val_loss: 0.5093 - val_acc: 0.5625\n",
      "Epoch 8/100\n",
      "15/15 [==============================] - 59s 4s/step - loss: 0.0669 - acc: 0.9582 - val_loss: 0.1927 - val_acc: 0.8750\n",
      "Epoch 9/100\n",
      "15/15 [==============================] - 60s 4s/step - loss: 0.0656 - acc: 0.9749 - val_loss: 0.2712 - val_acc: 0.8750\n",
      "Epoch 10/100\n",
      "15/15 [==============================] - 60s 4s/step - loss: 0.0714 - acc: 0.9667 - val_loss: 0.1051 - val_acc: 0.8125\n",
      "Epoch 11/100\n",
      "15/15 [==============================] - 60s 4s/step - loss: 0.0753 - acc: 0.9500 - val_loss: 0.1720 - val_acc: 0.8750\n",
      "Epoch 12/100\n",
      "15/15 [==============================] - 59s 4s/step - loss: 0.0835 - acc: 0.9458 - val_loss: 0.2639 - val_acc: 0.8125\n",
      "Epoch 13/100\n",
      "15/15 [==============================] - 59s 4s/step - loss: 0.0354 - acc: 0.9875 - val_loss: 0.2359 - val_acc: 0.8125\n",
      "Epoch 14/100\n",
      "15/15 [==============================] - 60s 4s/step - loss: 0.0659 - acc: 0.9542 - val_loss: 0.1514 - val_acc: 0.8125\n",
      "Epoch 15/100\n",
      "15/15 [==============================] - 60s 4s/step - loss: 0.0405 - acc: 0.9792 - val_loss: 0.1443 - val_acc: 0.8750\n",
      "Epoch 16/100\n",
      "15/15 [==============================] - 59s 4s/step - loss: 0.0764 - acc: 0.9458 - val_loss: 0.1007 - val_acc: 0.9375\n",
      "Epoch 17/100\n",
      "15/15 [==============================] - 59s 4s/step - loss: 0.0577 - acc: 0.9667 - val_loss: 0.5571 - val_acc: 0.6250\n",
      "Epoch 18/100\n",
      "15/15 [==============================] - 63s 4s/step - loss: 0.0447 - acc: 0.9792 - val_loss: 0.4077 - val_acc: 0.7500\n",
      "Epoch 19/100\n",
      "15/15 [==============================] - 57s 4s/step - loss: 0.0470 - acc: 0.9792 - val_loss: 0.3246 - val_acc: 0.7500\n",
      "Epoch 20/100\n",
      "15/15 [==============================] - 60s 4s/step - loss: 0.0922 - acc: 0.9417 - val_loss: 0.2554 - val_acc: 0.6875\n",
      "Epoch 21/100\n",
      "15/15 [==============================] - 59s 4s/step - loss: 0.0616 - acc: 0.9498 - val_loss: 0.2626 - val_acc: 0.8125\n",
      "Epoch 22/100\n",
      "15/15 [==============================] - 59s 4s/step - loss: 0.0497 - acc: 0.9833 - val_loss: 0.2556 - val_acc: 0.7500\n",
      "Epoch 23/100\n",
      "15/15 [==============================] - 60s 4s/step - loss: 0.0557 - acc: 0.9708 - val_loss: 0.1922 - val_acc: 0.9375\n",
      "Epoch 24/100\n",
      "15/15 [==============================] - 60s 4s/step - loss: 0.0684 - acc: 0.9667 - val_loss: 0.0921 - val_acc: 0.9375\n",
      "Epoch 25/100\n",
      "15/15 [==============================] - 59s 4s/step - loss: 0.0386 - acc: 0.9750 - val_loss: 0.2962 - val_acc: 0.8750\n",
      "Epoch 26/100\n",
      "15/15 [==============================] - 59s 4s/step - loss: 0.0586 - acc: 0.9582 - val_loss: 0.3703 - val_acc: 0.7500\n",
      "Epoch 27/100\n",
      "15/15 [==============================] - 59s 4s/step - loss: 0.0457 - acc: 0.9792 - val_loss: 0.0766 - val_acc: 0.9375\n",
      "Epoch 28/100\n",
      "15/15 [==============================] - 60s 4s/step - loss: 0.0728 - acc: 0.9582 - val_loss: 0.0143 - val_acc: 1.0000\n",
      "Epoch 29/100\n",
      "15/15 [==============================] - 60s 4s/step - loss: 0.0354 - acc: 0.9833 - val_loss: 0.2793 - val_acc: 0.7500\n",
      "Epoch 30/100\n",
      "15/15 [==============================] - 60s 4s/step - loss: 0.0498 - acc: 0.9833 - val_loss: 0.2570 - val_acc: 0.8750\n",
      "Epoch 31/100\n",
      "15/15 [==============================] - 60s 4s/step - loss: 0.0464 - acc: 0.9708 - val_loss: 0.0330 - val_acc: 1.0000\n",
      "Epoch 32/100\n",
      "15/15 [==============================] - 61s 4s/step - loss: 0.0465 - acc: 0.9792 - val_loss: 0.3780 - val_acc: 0.8125\n",
      "Epoch 33/100\n",
      "15/15 [==============================] - 60s 4s/step - loss: 0.0408 - acc: 0.9750 - val_loss: 0.2145 - val_acc: 0.8750\n",
      "Epoch 34/100\n",
      "15/15 [==============================] - 60s 4s/step - loss: 0.0407 - acc: 0.9833 - val_loss: 0.0168 - val_acc: 1.0000\n",
      "Epoch 35/100\n",
      "15/15 [==============================] - 60s 4s/step - loss: 0.0555 - acc: 0.9583 - val_loss: 0.2970 - val_acc: 0.7500\n",
      "Epoch 36/100\n",
      "15/15 [==============================] - 60s 4s/step - loss: 0.0481 - acc: 0.9792 - val_loss: 0.1629 - val_acc: 0.8750\n",
      "Epoch 37/100\n",
      "15/15 [==============================] - 60s 4s/step - loss: 0.0544 - acc: 0.9708 - val_loss: 0.1369 - val_acc: 0.9375\n",
      "Epoch 38/100\n",
      "15/15 [==============================] - 60s 4s/step - loss: 0.0393 - acc: 0.9875 - val_loss: 0.0932 - val_acc: 0.9375\n",
      "Epoch 39/100\n",
      "15/15 [==============================] - 60s 4s/step - loss: 0.0503 - acc: 0.9792 - val_loss: 0.5336 - val_acc: 0.6875\n",
      "Epoch 40/100\n",
      "15/15 [==============================] - 59s 4s/step - loss: 0.0359 - acc: 0.9833 - val_loss: 0.0883 - val_acc: 0.9375\n",
      "Epoch 41/100\n",
      "15/15 [==============================] - 60s 4s/step - loss: 0.0488 - acc: 0.9750 - val_loss: 0.3955 - val_acc: 0.7500\n",
      "Epoch 42/100\n",
      "15/15 [==============================] - 59s 4s/step - loss: 0.0449 - acc: 0.9749 - val_loss: 0.1661 - val_acc: 0.8750\n",
      "Epoch 43/100\n",
      "15/15 [==============================] - 60s 4s/step - loss: 0.0367 - acc: 0.9833 - val_loss: 0.5629 - val_acc: 0.6875\n",
      "Epoch 44/100\n",
      "15/15 [==============================] - 60s 4s/step - loss: 0.0376 - acc: 0.9917 - val_loss: 0.1049 - val_acc: 0.9375\n",
      "Epoch 45/100\n",
      "15/15 [==============================] - 60s 4s/step - loss: 0.0365 - acc: 0.9874 - val_loss: 0.3965 - val_acc: 0.8125\n",
      "Epoch 46/100\n",
      "15/15 [==============================] - 61s 4s/step - loss: 0.0434 - acc: 0.9750 - val_loss: 0.0898 - val_acc: 0.9375\n",
      "Epoch 47/100\n",
      "15/15 [==============================] - 61s 4s/step - loss: 0.0482 - acc: 0.9792 - val_loss: 0.4043 - val_acc: 0.7500\n",
      "Epoch 48/100\n",
      "15/15 [==============================] - 60s 4s/step - loss: 0.0334 - acc: 0.9833 - val_loss: 0.4793 - val_acc: 0.7500\n",
      "Epoch 49/100\n",
      "15/15 [==============================] - 60s 4s/step - loss: 0.0479 - acc: 0.9708 - val_loss: 0.3110 - val_acc: 0.8125\n",
      "Epoch 50/100\n",
      "15/15 [==============================] - 60s 4s/step - loss: 0.0393 - acc: 0.9750 - val_loss: 0.4423 - val_acc: 0.6875\n",
      "Epoch 51/100\n",
      "15/15 [==============================] - 60s 4s/step - loss: 0.0362 - acc: 0.9833 - val_loss: 0.1841 - val_acc: 0.8750\n",
      "Epoch 52/100\n",
      "15/15 [==============================] - 60s 4s/step - loss: 0.0585 - acc: 0.9582 - val_loss: 0.0488 - val_acc: 0.9375\n",
      "Epoch 53/100\n",
      "15/15 [==============================] - 60s 4s/step - loss: 0.0365 - acc: 0.9833 - val_loss: 0.2658 - val_acc: 0.7500\n",
      "Epoch 54/100\n",
      "15/15 [==============================] - 60s 4s/step - loss: 0.0437 - acc: 0.9792 - val_loss: 0.2367 - val_acc: 0.9375\n",
      "Epoch 55/100\n",
      "15/15 [==============================] - 60s 4s/step - loss: 0.0408 - acc: 0.9708 - val_loss: 0.2015 - val_acc: 0.9375\n",
      "Epoch 56/100\n",
      "15/15 [==============================] - 60s 4s/step - loss: 0.0364 - acc: 0.9750 - val_loss: 0.1461 - val_acc: 0.8750\n",
      "Epoch 57/100\n",
      "15/15 [==============================] - 60s 4s/step - loss: 0.0668 - acc: 0.9750 - val_loss: 0.1257 - val_acc: 0.8750\n",
      "Epoch 58/100\n",
      "15/15 [==============================] - 60s 4s/step - loss: 0.0504 - acc: 0.9667 - val_loss: 0.1934 - val_acc: 0.9375\n",
      "Epoch 59/100\n",
      "15/15 [==============================] - 60s 4s/step - loss: 0.0579 - acc: 0.9667 - val_loss: 0.1928 - val_acc: 0.8750\n",
      "Epoch 60/100\n",
      "15/15 [==============================] - 60s 4s/step - loss: 0.0548 - acc: 0.9708 - val_loss: 0.0979 - val_acc: 0.8750\n",
      "Epoch 61/100\n",
      "15/15 [==============================] - 60s 4s/step - loss: 0.0319 - acc: 0.9833 - val_loss: 0.2743 - val_acc: 0.8750\n",
      "Epoch 62/100\n",
      "15/15 [==============================] - 61s 4s/step - loss: 0.0311 - acc: 0.9833 - val_loss: 0.4159 - val_acc: 0.7500\n",
      "Epoch 63/100\n",
      "15/15 [==============================] - 60s 4s/step - loss: 0.0228 - acc: 0.9958 - val_loss: 0.2294 - val_acc: 0.8125\n",
      "Epoch 64/100\n",
      "15/15 [==============================] - 60s 4s/step - loss: 0.0406 - acc: 0.9708 - val_loss: 0.1882 - val_acc: 0.8750\n",
      "Epoch 65/100\n",
      "15/15 [==============================] - 60s 4s/step - loss: 0.0270 - acc: 0.9917 - val_loss: 0.1890 - val_acc: 0.9375\n",
      "Epoch 66/100\n",
      "15/15 [==============================] - 60s 4s/step - loss: 0.0454 - acc: 0.9833 - val_loss: 0.3971 - val_acc: 0.7500\n",
      "Epoch 67/100\n",
      "15/15 [==============================] - 60s 4s/step - loss: 0.0501 - acc: 0.9750 - val_loss: 0.2598 - val_acc: 0.8750\n",
      "Epoch 68/100\n",
      "15/15 [==============================] - 60s 4s/step - loss: 0.0366 - acc: 0.9833 - val_loss: 0.1101 - val_acc: 0.9375\n",
      "Epoch 69/100\n",
      "15/15 [==============================] - 60s 4s/step - loss: 0.0365 - acc: 0.9667 - val_loss: 0.2322 - val_acc: 0.8125\n",
      "Epoch 70/100\n",
      "15/15 [==============================] - 60s 4s/step - loss: 0.0702 - acc: 0.9583 - val_loss: 0.3316 - val_acc: 0.8125\n",
      "Epoch 71/100\n",
      "15/15 [==============================] - 61s 4s/step - loss: 0.0302 - acc: 0.9958 - val_loss: 0.1729 - val_acc: 0.8750\n",
      "Epoch 72/100\n",
      "15/15 [==============================] - 59s 4s/step - loss: 0.0311 - acc: 0.9833 - val_loss: 0.2702 - val_acc: 0.8125\n",
      "Epoch 73/100\n",
      "15/15 [==============================] - 60s 4s/step - loss: 0.0311 - acc: 0.9917 - val_loss: 0.0264 - val_acc: 1.0000\n"
     ]
    }
   ],
   "source": [
    "history = model.fit( #eğitim takibi\n",
    "      train_generator,\n",
    "      steps_per_epoch=15,\n",
    "      epochs=100,\n",
    "      validation_data=validation_generator,\n",
    "      validation_steps=1,\n",
    "      callbacks=[callbacks]\n",
    "      )"
   ]
  },
  {
   "cell_type": "code",
   "execution_count": 16,
   "metadata": {},
   "outputs": [
    {
     "name": "stdout",
     "output_type": "stream",
     "text": [
      "Found 290 images belonging to 4 classes.\n"
     ]
    }
   ],
   "source": [
    "model.save('D:/projects/proje/modeller/uzerineModel5.h5')\n",
    "\n",
    "test_datagen = tensorflow.keras.preprocessing.image.ImageDataGenerator(\n",
    "        rescale=1./255\n",
    "        )\n",
    "\n",
    "test_generator = test_datagen.flow_from_directory(\n",
    "       test_yolu,\n",
    "        target_size=(224, 224),\n",
    "        batch_size=20,\n",
    "        )"
   ]
  },
  {
   "cell_type": "code",
   "execution_count": 17,
   "metadata": {},
   "outputs": [
    {
     "name": "stdout",
     "output_type": "stream",
     "text": [
      "dict_keys(['loss', 'acc', 'val_loss', 'val_acc'])\n"
     ]
    },
    {
     "data": {
      "image/png": "[encoded data removed]",
      "text/plain": [
       "<Figure size 432x288 with 1 Axes>"
      ]
     },
     "metadata": {
      "needs_background": "light"
     },
     "output_type": "display_data"
    },
    {
     "name": "stderr",
     "output_type": "stream",
     "text": [
      "C:\\Users\\SAHILR~1\\AppData\\Local\\Temp/ipykernel_18404/1567553234.py:14: UserWarning: `Model.evaluate_generator` is deprecated and will be removed in a future version. Please use `Model.evaluate`, which supports generators.\n",
      "  test_loss, test_acc = model.evaluate_generator(test_generator, steps=50)\n"
     ]
    },
    {
     "name": "stdout",
     "output_type": "stream",
     "text": [
      "WARNING:tensorflow:Your input ran out of data; interrupting training. Make sure that your dataset or generator can generate at least `steps_per_epoch * epochs` batches (in this case, 50 batches). You may need to use the repeat() function when building your dataset.\n",
      "test acc: 0.8586207032203674\n"
     ]
    }
   ],
   "source": [
    "print(history.history.keys())\n",
    "#  \"Accuracy\"\n",
    "plt.plot(history.history['acc'])\n",
    "plt.plot(history.history['loss'])\n",
    "plt.plot(history.history['val_acc'])\n",
    "plt.plot(history.history['val_loss'])\n",
    "plt.title('model accuracy')\n",
    "plt.ylabel('accuracy')\n",
    "plt.xlabel('epoch')\n",
    "plt.legend(['train_acc', 'train_loss', 'validation_acc', 'validation_loss'], loc='upper left')\n",
    "plt.show()\n",
    "\n",
    "# Printing the test results.\n",
    "test_loss, test_acc = model.evaluate_generator(test_generator, steps=50)\n",
    "print('test acc:', test_acc)"
   ]
  }
 ],
 "metadata": {
  "interpreter": {
   "hash": "ad2bdc8ecc057115af97d19610ffacc2b4e99fae6737bb82f5d7fb13d2f2c186"
  },
  "kernelspec": {
   "display_name": "Python 3.9.7 ('base')",
   "language": "python",
   "name": "python3"
  },
  "language_info": {
   "codemirror_mode": {
    "name": "ipython",
    "version": 3
   },
   "file_extension": ".py",
   "mimetype": "text/x-python",
   "name": "python",
   "nbconvert_exporter": "python",
   "pygments_lexer": "ipython3",
   "version": "3.9.7"
  },
  "orig_nbformat": 4
 },
 "nbformat": 4,
 "nbformat_minor": 2
}
