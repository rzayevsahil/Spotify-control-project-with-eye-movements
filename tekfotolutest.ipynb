{
 "cells": [
  {
   "cell_type": "code",
   "execution_count": 2,
   "metadata": {},
   "outputs": [
    {
     "name": "stdout",
     "output_type": "stream",
     "text": [
      "Sonuç: Kapalı\n"
     ]
    }
   ],
   "source": [
    "import cv2\n",
    "import tensorflow as tf\n",
    "\n",
    "Categories = [\"Closed\",\"Left\",\"Open\",\"Right\"]\n",
    "\n",
    "def prepare(filepath):\n",
    "    img_size = 224\n",
    "    img_array = cv2.imread(filepath)\n",
    "    new_array = cv2.resize(img_array,(img_size,img_size),3)\n",
    "    return new_array.reshape(-1,img_size,img_size,3)\n",
    "\n",
    "model = tf.keras.models.load_model('D:/projects/proje/modeller/Model3.h5')\n",
    "\n",
    "prediction = model.predict([prepare(r'D:\\projects\\proje\\dataSet\\Test\\Close\\CropClose (1).jpg')])\n",
    "\n",
    "max = -1\n",
    "indis = -1\n",
    "for x in range(4):\n",
    "    if prediction[0][x]>max:\n",
    "        indis = x\n",
    "        max = prediction[0][x]\n",
    "\n",
    "dizi =[\"Kapalı\", \"Sol Göz\", \"Açık\", \"Sağ Göz\"]\n",
    "print(\"Sonuç:\",dizi[indis])"
   ]
  }
 ],
 "metadata": {
  "interpreter": {
   "hash": "ad2bdc8ecc057115af97d19610ffacc2b4e99fae6737bb82f5d7fb13d2f2c186"
  },
  "kernelspec": {
   "display_name": "Python 3.9.7 ('base')",
   "language": "python",
   "name": "python3"
  },
  "language_info": {
   "codemirror_mode": {
    "name": "ipython",
    "version": 3
   },
   "file_extension": ".py",
   "mimetype": "text/x-python",
   "name": "python",
   "nbconvert_exporter": "python",
   "pygments_lexer": "ipython3",
   "version": "3.9.7"
  },
  "orig_nbformat": 4
 },
 "nbformat": 4,
 "nbformat_minor": 2
}
